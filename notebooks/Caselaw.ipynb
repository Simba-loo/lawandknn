{
 "cells": [
  {
   "cell_type": "code",
   "execution_count": 51,
   "metadata": {},
   "outputs": [],
   "source": [
    "import networkx\n",
    "import numpy as np\n",
    "import requests"
   ]
  },
  {
   "cell_type": "code",
   "execution_count": 2,
   "metadata": {},
   "outputs": [],
   "source": [
    "import matplotlib.pyplot as plt\n",
    "%matplotlib inline"
   ]
  },
  {
   "cell_type": "code",
   "execution_count": 3,
   "metadata": {},
   "outputs": [],
   "source": [
    "data_path = \"../../data/citations.csv\"\n",
    "full = networkx.read_adjlist(\"../../data/citations.csv\", delimiter=\",\", create_using=networkx.DiGraph)"
   ]
  },
  {
   "cell_type": "code",
   "execution_count": 4,
   "metadata": {},
   "outputs": [
    {
     "name": "stdout",
     "output_type": "stream",
     "text": [
      "Is directed: True\n",
      "#cases = 4911157\n"
     ]
    }
   ],
   "source": [
    "print(\"Is directed: \" + str(full.is_directed()))\n",
    "print(\"#cases = \" + str(len(full)))"
   ]
  },
  {
   "cell_type": "code",
   "execution_count": 5,
   "metadata": {},
   "outputs": [],
   "source": [
    "num_neighbors_mapping = {n: len(list(full.neighbors(n))) for n in full.nodes}"
   ]
  },
  {
   "cell_type": "code",
   "execution_count": 6,
   "metadata": {},
   "outputs": [],
   "source": [
    "num_neighbors = list(num_neighbors_mapping.values())"
   ]
  },
  {
   "cell_type": "code",
   "execution_count": 7,
   "metadata": {},
   "outputs": [
    {
     "name": "stdout",
     "output_type": "stream",
     "text": [
      "Average number of cases cited:\n"
     ]
    },
    {
     "data": {
      "text/plain": [
       "8.726009370093442"
      ]
     },
     "execution_count": 7,
     "metadata": {},
     "output_type": "execute_result"
    }
   ],
   "source": [
    "print(\"Average number of cases cited:\")\n",
    "sum(num_neighbors) / len(num_neighbors)"
   ]
  },
  {
   "cell_type": "code",
   "execution_count": 8,
   "metadata": {},
   "outputs": [
    {
     "name": "stdout",
     "output_type": "stream",
     "text": [
      "About a tenth (463699/4911157) of the cases cite no other cases.\n"
     ]
    }
   ],
   "source": [
    "print(\"About a tenth (\" + \\\n",
    "str(len([n for n in num_neighbors if n == 0])) + \"/\" + str(len(full)) + \\\n",
    "\") of the cases cite no other cases.\")"
   ]
  },
  {
   "cell_type": "code",
   "execution_count": 9,
   "metadata": {},
   "outputs": [
    {
     "name": "stdout",
     "output_type": "stream",
     "text": [
      "The case that cites the most other cases cites 2951 cases\n",
      "Top ten: [2951, 653, 637, 590, 573, 535, 516, 514, 491]\n"
     ]
    }
   ],
   "source": [
    "num_neighbors.sort()\n",
    "print(\"The case that cites the most other cases cites \" + str(num_neighbors[-1]) + \" cases\")\n",
    "print(\"Top ten: \" + str(num_neighbors[-1:-10:-1]))"
   ]
  },
  {
   "cell_type": "code",
   "execution_count": 10,
   "metadata": {},
   "outputs": [
    {
     "data": {
      "text/plain": [
       "['4147232']"
      ]
     },
     "execution_count": 10,
     "metadata": {},
     "output_type": "execute_result"
    }
   ],
   "source": [
    "[case_id for case_id, num_cited in num_neighbors_mapping.items() if num_cited == 2951]"
   ]
  },
  {
   "cell_type": "code",
   "execution_count": 11,
   "metadata": {},
   "outputs": [
    {
     "name": "stdout",
     "output_type": "stream",
     "text": [
      "Ignoring that outlier case, distribution of cases cited (vertical log scale)\n"
     ]
    },
    {
     "data": {
      "image/png": "[encoded data removed]",
      "text/plain": [
       "<Figure size 432x288 with 1 Axes>"
      ]
     },
     "metadata": {
      "needs_background": "light"
     },
     "output_type": "display_data"
    }
   ],
   "source": [
    "print(\"Ignoring that outlier case, distribution of cases cited (vertical log scale)\")\n",
    "_ = plt.hist(num_neighbors[:-1], log=True, bins=100)\n",
    "_ = plt.ylabel(\"frequency\")\n",
    "_ = plt.xlabel(\"number of cases cited\")"
   ]
  },
  {
   "cell_type": "code",
   "execution_count": 12,
   "metadata": {},
   "outputs": [],
   "source": [
    "num_citers_mapping = {n: len(list(full.predecessors(n))) for n in full.nodes}\n",
    "num_citers = list(num_citers_mapping.values())"
   ]
  },
  {
   "cell_type": "code",
   "execution_count": 13,
   "metadata": {},
   "outputs": [
    {
     "name": "stdout",
     "output_type": "stream",
     "text": [
      "Not surprisingly the distribution of citing cases is a lot more heavy tailed.\n"
     ]
    },
    {
     "data": {
      "image/png": "[encoded data removed]",
      "text/plain": [
       "<Figure size 432x288 with 1 Axes>"
      ]
     },
     "metadata": {
      "needs_background": "light"
     },
     "output_type": "display_data"
    }
   ],
   "source": [
    "print(\"Not surprisingly the distribution of citing cases is a lot more heavy tailed.\")\n",
    "_ = plt.hist(num_citers, log=True, bins=100)\n",
    "_ = plt.ylabel(\"frequency\")\n",
    "_ = plt.xlabel(\"number of citing cases\")"
   ]
  },
  {
   "cell_type": "code",
   "execution_count": 40,
   "metadata": {},
   "outputs": [],
   "source": [
    "num_citers.sort()"
   ]
  },
  {
   "cell_type": "code",
   "execution_count": 46,
   "metadata": {},
   "outputs": [],
   "source": [
    "top_10_case_citations = num_citers[-1:-11:-1]"
   ]
  },
  {
   "cell_type": "code",
   "execution_count": 48,
   "metadata": {},
   "outputs": [],
   "source": [
    "top_10_num_citers = {n : v for n, v in num_citers_mapping.items() if v in top_10_case_citations}"
   ]
  },
  {
   "cell_type": "code",
   "execution_count": 49,
   "metadata": {},
   "outputs": [
    {
     "data": {
      "text/plain": [
       "{'6204802': 39800,\n",
       " '6182418': 35083,\n",
       " '10002': 20325,\n",
       " '6205783': 30384,\n",
       " '6206897': 66557,\n",
       " '6207800': 60464,\n",
       " '6167798': 19690,\n",
       " '12046400': 32611,\n",
       " '6182629': 35104,\n",
       " '3556136': 22631}"
      ]
     },
     "execution_count": 49,
     "metadata": {},
     "output_type": "execute_result"
    }
   ],
   "source": [
    "top_10_num_citers"
   ]
  },
  {
   "cell_type": "code",
   "execution_count": 80,
   "metadata": {},
   "outputs": [
    {
     "name": "stdout",
     "output_type": "stream",
     "text": [
      "39800\n",
      "STRICKLAND, SUPERINTENDENT, FLORIDA STATE PRISON, et al. v. WASHINGTON\n",
      "https://cite.case.law/us/466/668/\n",
      "35083\n",
      "JACKSON v. VIRGINIA et al.\n",
      "https://cite.case.law/us/443/307/\n",
      "20325\n",
      "McDONNELL DOUGLAS CORP. v. GREEN\n",
      "https://cite.case.law/us/411/792/\n",
      "30384\n",
      "MATSUSHITA ELECTRIC INDUSTRIAL CO., LTD, et al. v. ZENITH RADIO CORP. et al.\n",
      "https://cite.case.law/us/475/574/\n",
      "66557\n",
      "ANDERSON et al. v. LIBERTY LOBBY, INC., et al.\n",
      "https://cite.case.law/us/477/242/\n",
      "60464\n",
      "CELOTEX CORP. v. CATRETT, ADMINISTRATRIX OF THE ESTATE OF CATRETT\n",
      "https://cite.case.law/us/477/317/\n",
      "19690\n",
      "TERRY v. OHIO\n",
      "https://cite.case.law/us/392/1/\n",
      "32611\n",
      "MIRANDA v. ARIZONA\n",
      "https://cite.case.law/us/384/436/\n",
      "35104\n",
      "ANDERS v. CALIFORNIA\n",
      "https://cite.case.law/us/386/738/\n",
      "22631\n",
      "BELL ATLANTIC CORP. et al. v. TWOMBLY et al.\n",
      "https://cite.case.law/us/550/544/\n"
     ]
    }
   ],
   "source": [
    "for case_id in top_10_num_citers:\n",
    "    r = requests.get(url = \"https://api.case.law/v1/cases/\" + case_id, params = {\"full_case\":True})\n",
    "    print(top_10_num_citers[case_id])\n",
    "    print(r.json()['name'])\n",
    "    print(r.json()['frontend_url'])"
   ]
  },
  {
   "cell_type": "code",
   "execution_count": 71,
   "metadata": {},
   "outputs": [
    {
     "data": {
      "text/plain": [
       "139"
      ]
     },
     "execution_count": 71,
     "metadata": {},
     "output_type": "execute_result"
    }
   ],
   "source": [
    "len(r.json()[\"cites_to\"])"
   ]
  },
  {
   "cell_type": "code",
   "execution_count": 75,
   "metadata": {},
   "outputs": [
    {
     "data": {
      "text/plain": [
       "110"
      ]
     },
     "execution_count": 75,
     "metadata": {},
     "output_type": "execute_result"
    }
   ],
   "source": [
    "num_neighbors_mapping[str(r.json()[\"id\"])]"
   ]
  },
  {
   "cell_type": "code",
   "execution_count": 77,
   "metadata": {},
   "outputs": [
    {
     "data": {
      "text/plain": [
       "{'id': 3556136,\n",
       " 'url': 'https://api.case.law/v1/cases/3556136/',\n",
       " 'name': 'BELL ATLANTIC CORP. et al. v. TWOMBLY et al.',\n",
       " 'name_abbreviation': 'Bell Atlantic Corp. v. Twombly',\n",
       " 'decision_date': '2007-05-21',\n",
       " 'docket_number': 'No. 05-1126',\n",
       " 'first_page': '544',\n",
       " 'last_page': '597',\n",
       " 'citations': [{'type': 'official', 'cite': '550 U.S. 544'},\n",
       "  {'type': 'parallel', 'cite': '167 L. Ed. 2d 929'},\n",
       "  {'type': 'parallel', 'cite': '127 S. Ct. 1955'},\n",
       "  {'type': 'vendor', 'cite': '2007 U.S. LEXIS 5901'},\n",
       "  {'type': 'vendor', 'cite': 'SCDB 2006-045'}],\n",
       " 'volume': {'barcode': '32044115934465',\n",
       "  'url': 'https://api.case.law/v1/volumes/32044115934465/',\n",
       "  'volume_number': '550'},\n",
       " 'reporter': {'full_name': 'United States Reports',\n",
       "  'url': 'https://api.case.law/v1/reporters/983/',\n",
       "  'id': 983},\n",
       " 'court': {'slug': 'us',\n",
       "  'url': 'https://api.case.law/v1/courts/us/',\n",
       "  'id': 9009,\n",
       "  'name_abbreviation': 'U.S.',\n",
       "  'name': 'Supreme Court of the United States'},\n",
       " 'jurisdiction': {'whitelisted': False,\n",
       "  'slug': 'us',\n",
       "  'id': 39,\n",
       "  'name': 'U.S.',\n",
       "  'name_long': 'United States',\n",
       "  'url': 'https://api.case.law/v1/jurisdictions/us/'},\n",
       " 'cites_to': [{'cite': '862 N. E. 2d 104'},\n",
       "  {'cite': '14 P. 3d 1275'},\n",
       "  {'cite': '745 F. 2'},\n",
       "  {'cite': '469 S. E. 2d 198'},\n",
       "  {'cite': '570 A. 2d 656'},\n",
       "  {'cite': '395 U. S. 411'},\n",
       "  {'cite': '906 A. 2d 308'},\n",
       "  {'cite': '890 F. Supp. 250'},\n",
       "  {'cite': '277 F. 2d 694'},\n",
       "  {'cite': '957 F. 2d 353'},\n",
       "  {'cite': '141 P. 3d 549'},\n",
       "  {'cite': '470 Mich. 274'},\n",
       "  {'cite': '469 U. S. 111'},\n",
       "  {'cite': '266 Ga. 612'},\n",
       "  {'cite': '846 N. E. 2d 1133'},\n",
       "  {'cite': '142 P. 3d 265'},\n",
       "  {'cite': '192 F. R. D. 354'},\n",
       "  {'cite': '638 S. E. 2d 197'},\n",
       "  {'cite': '429 U. S. 477'},\n",
       "  {'cite': '709 N. W. 2d 321'},\n",
       "  {'cite': '395 F. 2d 420'},\n",
       "  {'cite': '108 F. 2'},\n",
       "  {'cite': '431 U. S. 553'},\n",
       "  {'cite': '510 U. S. 249'},\n",
       "  {'cite': '449 U. S. 5'},\n",
       "  {'cite': '466 U. S. 558'},\n",
       "  {'cite': '63 Va. Cir. 68'},\n",
       "  {'cite': '313 F. Supp. 2'},\n",
       "  {'cite': '69 F. 2d 326'},\n",
       "  {'cite': '426 U. S. 26'},\n",
       "  {'cite': '337 Mont. 1'},\n",
       "  {'cite': '457 U. S. 147'},\n",
       "  {'cite': '346 U. S. 537'},\n",
       "  {'cite': '104 S. W. 3d 757'},\n",
       "  {'cite': '127 P. 3d 156'},\n",
       "  {'cite': '232 F. R. D. 116'},\n",
       "  {'cite': '636 So. 2d 576'},\n",
       "  {'cite': '544 U. S. 336'},\n",
       "  {'cite': '421 U. S. 723'},\n",
       "  {'cite': '490 U. S. 319'},\n",
       "  {'cite': '467 U. S. 752'},\n",
       "  {'cite': '498 U. S. 533'},\n",
       "  {'cite': '212 Ill. 2d 311'},\n",
       "  {'cite': '130 P. 3d 809'},\n",
       "  {'cite': '632 N. W. 2d 429'},\n",
       "  {'cite': '76 Texas L. Rev. 1665'},\n",
       "  {'cite': '361 N. C. 137'},\n",
       "  {'cite': '329 U. S. 495'},\n",
       "  {'cite': '365 U. S. 381'},\n",
       "  {'cite': '362 F. 3d 969'},\n",
       "  {'cite': '525 U. S. 366'},\n",
       "  {'cite': '534 U. S. 506'},\n",
       "  {'cite': '478 U. S. 265'},\n",
       "  {'cite': '509 U. S. 764'},\n",
       "  {'cite': '357 U. S. 197'},\n",
       "  {'cite': '347 U. S. 186'},\n",
       "  {'cite': '467 U. S. 69'},\n",
       "  {'cite': '404 U. S. 519'},\n",
       "  {'cite': '659 N. W. 2d 20'},\n",
       "  {'cite': '216 W. Va. 499'},\n",
       "  {'cite': '666 N. W. 2d 612'},\n",
       "  {'cite': '712 S. W. 2d 470'},\n",
       "  {'cite': '930 So. 2d 502'},\n",
       "  {'cite': '425 F. 3'},\n",
       "  {'cite': '607 S. E. 2d 828'},\n",
       "  {'cite': '523 U. S. 574'},\n",
       "  {'cite': '544 F. 2d 543'},\n",
       "  {'cite': '313 F. Supp. 2d 174'},\n",
       "  {'cite': '145 Vt. 443'},\n",
       "  {'cite': '535 U. S. 813'},\n",
       "  {'cite': '926 So. 2d 890'},\n",
       "  {'cite': '114 F. Supp. 643'},\n",
       "  {'cite': '270 Neb. 987'},\n",
       "  {'cite': '167 Ariz. 501'},\n",
       "  {'cite': '416 U. S. 232'},\n",
       "  {'cite': '40 F. 3'},\n",
       "  {'cite': '108 F. 2d 302'},\n",
       "  {'cite': '429 U. S. 97'},\n",
       "  {'cite': '431 A. 2d 1313'},\n",
       "  {'cite': '507 U. S. 163'},\n",
       "  {'cite': '446 Mass. 645'},\n",
       "  {'cite': '535 U. S. 467'},\n",
       "  {'cite': '405 U. S. 319'},\n",
       "  {'cite': '509 U. S. 209'},\n",
       "  {'cite': '494 A. 2d 122'},\n",
       "  {'cite': '112 Ohio St. 3d 561'},\n",
       "  {'cite': '485 U. S. 271'},\n",
       "  {'cite': '808 P. 2d 1253'},\n",
       "  {'cite': '425 U. S. 738'},\n",
       "  {'cite': '130 F. 2d 631'},\n",
       "  {'cite': '681 N. W. 2d 342'},\n",
       "  {'cite': '526 U. S. 629'},\n",
       "  {'cite': '450 F. 3d 528'},\n",
       "  {'cite': '801 So. 2d 346'},\n",
       "  {'cite': '465 U. S. 752'},\n",
       "  {'cite': '470 U. S. 532'},\n",
       "  {'cite': '289 F. Supp. 2d 986'},\n",
       "  {'cite': '355 U. S. 41'},\n",
       "  {'cite': '444 U. S. 232'},\n",
       "  {'cite': '475 U. S. 574'},\n",
       "  {'cite': '492 U. S. 229'},\n",
       "  {'cite': '468 U. S. 737'},\n",
       "  {'cite': '352 U. S. 445'},\n",
       "  {'cite': '130 F. 3'},\n",
       "  {'cite': '471 F. 3d 24'},\n",
       "  {'cite': '2006 OK 53'},\n",
       "  {'cite': '489 U. S. 593'},\n",
       "  {'cite': '151 P. 3d 388'},\n",
       "  {'cite': '459 U. S. 519'},\n",
       "  {'cite': '156 Wash. 2d 485'},\n",
       "  {'cite': '139 F. 2d 774'},\n",
       "  {'cite': '795 P. 2d 622'},\n",
       "  {'cite': '318 U. S. 125'},\n",
       "  {'cite': '747 P. 2d 511'},\n",
       "  {'cite': '248 F. 2d 319'},\n",
       "  {'cite': '40 F. 3d 247'},\n",
       "  {'cite': '866 F. 2d 1149'},\n",
       "  {'cite': '425 F. 3d 99'},\n",
       "  {'cite': '411 U. S. 792'},\n",
       "  {'cite': '954 F. 2d 1054'},\n",
       "  {'cite': '142 Idaho 253'},\n",
       "  {'cite': '548 U. S. 903'},\n",
       "  {'cite': '2003 SD 28'},\n",
       "  {'cite': '522 N. E. 2d 386'},\n",
       "  {'cite': '780 A. 2d 1075'},\n",
       "  {'cite': '818 N. E. 2d 311'},\n",
       "  {'cite': '745 F. 2d 1101'},\n",
       "  {'cite': '155 P. 3d 1247'},\n",
       "  {'cite': '706 S. W. 2d 440'},\n",
       "  {'cite': '2001 ND 154'},\n",
       "  {'cite': '170 F. 3d 53'},\n",
       "  {'cite': '323 F. 2d 1'},\n",
       "  {'cite': '111 Haw. 401'},\n",
       "  {'cite': '540 U. S. 398'},\n",
       "  {'cite': '856 F. 2d 39'},\n",
       "  {'cite': '368 U. S. 464'},\n",
       "  {'cite': '116 Nev. 1213'},\n",
       "  {'cite': '27 P. 3d 377'},\n",
       "  {'cite': '471 F. 2d 430'}],\n",
       " 'frontend_url': 'https://cite.case.law/us/550/544/',\n",
       " 'preview': [],\n",
       " 'casebody': {'status': 'error_auth_required', 'data': None}}"
      ]
     },
     "execution_count": 77,
     "metadata": {},
     "output_type": "execute_result"
    }
   ],
   "source": [
    "r.json()"
   ]
  },
  {
   "cell_type": "code",
   "execution_count": 14,
   "metadata": {},
   "outputs": [],
   "source": [
    "precedents_num_citers_mapping = {n : v for n, v in num_citers_mapping.items() if num_neighbors_mapping[n] == 0}"
   ]
  },
  {
   "cell_type": "code",
   "execution_count": 16,
   "metadata": {},
   "outputs": [],
   "source": [
    "precedents_num_citers = list(precedents_num_citers_mapping.values())"
   ]
  },
  {
   "cell_type": "code",
   "execution_count": 17,
   "metadata": {},
   "outputs": [
    {
     "data": {
      "image/png": "[encoded data removed]",
      "text/plain": [
       "<Figure size 432x288 with 1 Axes>"
      ]
     },
     "metadata": {
      "needs_background": "light"
     },
     "output_type": "display_data"
    }
   ],
   "source": [
    "_ = plt.hist(precedents_num_citers, log=True, bins=100)\n",
    "_ = plt.ylabel(\"frequency\")\n",
    "_ = plt.xlabel(\"number of citing cases\")"
   ]
  },
  {
   "cell_type": "code",
   "execution_count": null,
   "metadata": {},
   "outputs": [],
   "source": [
    "# Does not appear that the most cited cases were cases that cited no other cases.\n",
    "# Makes sense that this would be an idealization at best\n",
    "# Need to compare the two histograms\n",
    "# Looks from raw eyeballing that these cases which cite no other cases are in fact just less influential."
   ]
  },
  {
   "cell_type": "code",
   "execution_count": 23,
   "metadata": {},
   "outputs": [
    {
     "name": "stdout",
     "output_type": "stream",
     "text": [
      "Yup, cases with no citations are less influential\n"
     ]
    },
    {
     "data": {
      "image/png": "[encoded data removed]",
      "text/plain": [
       "<Figure size 432x288 with 1 Axes>"
      ]
     },
     "metadata": {
      "needs_background": "light"
     },
     "output_type": "display_data"
    }
   ],
   "source": [
    "print(\"Yup, cases with no citations are less influential\")\n",
    "countsandbins = plt.hist(num_citers, log=True, bins=100)\n",
    "bins=countsandbins[1]\n",
    "_ = plt.ylabel(\"frequency\")\n",
    "_ = plt.xlabel(\"number of citing cases\")\n",
    "_ = plt.hist(precedents_num_citers, log=True, bins=bins)\n"
   ]
  },
  {
   "cell_type": "code",
   "execution_count": 24,
   "metadata": {},
   "outputs": [],
   "source": [
    "# What can I do now?\n",
    "# Missing example case (id 435800) from Illinois supreme court--not sure why..."
   ]
  },
  {
   "cell_type": "code",
   "execution_count": 50,
   "metadata": {},
   "outputs": [],
   "source": []
  },
  {
   "cell_type": "code",
   "execution_count": null,
   "metadata": {},
   "outputs": [],
   "source": []
  }
 ],
 "metadata": {
  "kernelspec": {
   "display_name": "Python 3",
   "language": "python",
   "name": "python3"
  },
  "language_info": {
   "codemirror_mode": {
    "name": "ipython",
    "version": 3
   },
   "file_extension": ".py",
   "mimetype": "text/x-python",
   "name": "python",
   "nbconvert_exporter": "python",
   "pygments_lexer": "ipython3",
   "version": "3.7.1"
  }
 },
 "nbformat": 4,
 "nbformat_minor": 2
}
