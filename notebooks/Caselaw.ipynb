{
 "cells": [
  {
   "cell_type": "code",
   "execution_count": 1,
   "metadata": {},
   "outputs": [],
   "source": [
    "import networkx\n",
    "import numpy as np"
   ]
  },
  {
   "cell_type": "code",
   "execution_count": 2,
   "metadata": {},
   "outputs": [],
   "source": [
    "import matplotlib.pyplot as plt\n",
    "%matplotlib inline"
   ]
  },
  {
   "cell_type": "code",
   "execution_count": 3,
   "metadata": {},
   "outputs": [],
   "source": [
    "data_path = \"../../data/citations.csv\"\n",
    "full = networkx.read_adjlist(\"../../data/citations.csv\", delimiter=\",\", create_using=networkx.DiGraph)"
   ]
  },
  {
   "cell_type": "code",
   "execution_count": 4,
   "metadata": {},
   "outputs": [
    {
     "name": "stdout",
     "output_type": "stream",
     "text": [
      "Is directed: True\n",
      "#cases = 4911157\n"
     ]
    }
   ],
   "source": [
    "print(\"Is directed: \" + str(full.is_directed()))\n",
    "print(\"#cases = \" + str(len(full)))"
   ]
  },
  {
   "cell_type": "code",
   "execution_count": 5,
   "metadata": {},
   "outputs": [],
   "source": [
    "num_neighbors = [len(list(full.neighbors(n))) for n in full.nodes]"
   ]
  },
  {
   "cell_type": "code",
   "execution_count": 11,
   "metadata": {},
   "outputs": [
    {
     "name": "stdout",
     "output_type": "stream",
     "text": [
      "Average number of cases cited:\n"
     ]
    },
    {
     "data": {
      "text/plain": [
       "8.726009370093442"
      ]
     },
     "execution_count": 11,
     "metadata": {},
     "output_type": "execute_result"
    }
   ],
   "source": [
    "print(\"Average number of cases cited:\")\n",
    "sum(num_neighbors) / len(num_neighbors)"
   ]
  },
  {
   "cell_type": "code",
   "execution_count": 7,
   "metadata": {},
   "outputs": [
    {
     "name": "stdout",
     "output_type": "stream",
     "text": [
      "About a tenth (463699/4911157) of the cases cite no other cases.\n"
     ]
    }
   ],
   "source": [
    "print(\"About a tenth (\" + \\\n",
    "str(len([n for n in num_neighbors if n == 0])) + \"/\" + str(len(full)) + \\\n",
    "\") of the cases cite no other cases.\")"
   ]
  },
  {
   "cell_type": "code",
   "execution_count": 8,
   "metadata": {},
   "outputs": [
    {
     "name": "stdout",
     "output_type": "stream",
     "text": [
      "The case that cites the most other cases cites 2951 cases\n",
      "Top ten: [2951, 653, 637, 590, 573, 535, 516, 514, 491]\n"
     ]
    }
   ],
   "source": [
    "num_neighbors.sort()\n",
    "print(\"The case that cites the most other cases cites \" + str(num_neighbors[-1]) + \" cases\")\n",
    "print(\"Top ten: \" + str(num_neighbors[-1:-10:-1]))"
   ]
  },
  {
   "cell_type": "code",
   "execution_count": 15,
   "metadata": {},
   "outputs": [
    {
     "name": "stdout",
     "output_type": "stream",
     "text": [
      "Ignoring that outlier case, distribution of cases cited (vertical log scale)\n"
     ]
    },
    {
     "data": {
      "image/png": "[encoded data removed]",
      "text/plain": [
       "<Figure size 432x288 with 1 Axes>"
      ]
     },
     "metadata": {
      "needs_background": "light"
     },
     "output_type": "display_data"
    }
   ],
   "source": [
    "print(\"Ignoring that outlier case, distribution of cases cited (vertical log scale)\")\n",
    "_ = plt.hist(num_neighbors[:-1], log=True, bins=100)\n",
    "_ = plt.ylabel(\"frequency\")\n",
    "_ = plt.xlabel(\"number of cases cited\")"
   ]
  }
 ],
 "metadata": {
  "kernelspec": {
   "display_name": "Python 3",
   "language": "python",
   "name": "python3"
  },
  "language_info": {
   "codemirror_mode": {
    "name": "ipython",
    "version": 3
   },
   "file_extension": ".py",
   "mimetype": "text/x-python",
   "name": "python",
   "nbconvert_exporter": "python",
   "pygments_lexer": "ipython3",
   "version": "3.7.1"
  }
 },
 "nbformat": 4,
 "nbformat_minor": 2
}
