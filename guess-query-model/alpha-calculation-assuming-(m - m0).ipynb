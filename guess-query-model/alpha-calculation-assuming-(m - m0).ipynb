{
 "cells": [
  {
   "cell_type": "code",
   "execution_count": 4,
   "metadata": {},
   "outputs": [],
   "source": [
    "from sympy import *\n",
    "init_printing()"
   ]
  },
  {
   "cell_type": "code",
   "execution_count": 85,
   "metadata": {},
   "outputs": [],
   "source": [
    "import numpy as np\n",
    "import matplotlib.pyplot as plt"
   ]
  },
  {
   "cell_type": "code",
   "execution_count": 5,
   "metadata": {},
   "outputs": [],
   "source": [
    "m, x, alpha, beta, y, z, m0 = symbols('m x alpha beta y z m0', nonnegative=True)"
   ]
  },
  {
   "cell_type": "code",
   "execution_count": 6,
   "metadata": {},
   "outputs": [],
   "source": [
    "V = Function(\"V\")"
   ]
  },
  {
   "cell_type": "code",
   "execution_count": 7,
   "metadata": {},
   "outputs": [],
   "source": [
    "# Something is a little off. What you are integrating is x * m, so you shouldn't have x*m in below, just x."
   ]
  },
  {
   "cell_type": "code",
   "execution_count": 112,
   "metadata": {},
   "outputs": [
    {
     "data": {
      "image/png": "[encoded data removed]",
      "text/latex": [
       "$$\\beta \\left(\\frac{z V{\\left (z \\right )}}{m} + \\frac{\\left(m - z\\right) V{\\left (m - z \\right )}}{m}\\right)$$"
      ],
      "text/plain": [
       "  ⎛z⋅V(z)   (m - z)⋅V(m - z)⎞\n",
       "β⋅⎜────── + ────────────────⎟\n",
       "  ⎝  m             m        ⎠"
      ]
     },
     "execution_count": 112,
     "metadata": {},
     "output_type": "execute_result"
    }
   ],
   "source": [
    "# Here, z represents the actual arrival, not a fraction of m.\n",
    "query_expression = beta * ((z/m) * V(z) + ((m - z)/m) * V(m - z))\n",
    "query_expression"
   ]
  },
  {
   "cell_type": "code",
   "execution_count": 113,
   "metadata": {},
   "outputs": [
    {
     "data": {
      "image/png": "[encoded data removed]",
      "text/latex": [
       "$$\\beta \\left(\\frac{z \\left(- \\frac{z}{4} + 1\\right)}{m \\left(- \\beta + 1\\right)} + \\frac{\\left(m - z\\right) \\left(- \\frac{m}{4} + \\frac{z}{4} + 1\\right)}{m \\left(- \\beta + 1\\right)}\\right)$$"
      ],
      "text/plain": [
       "  ⎛  ⎛  z    ⎞           ⎛  m   z    ⎞⎞\n",
       "  ⎜z⋅⎜- ─ + 1⎟   (m - z)⋅⎜- ─ + ─ + 1⎟⎟\n",
       "  ⎜  ⎝  4    ⎠           ⎝  4   4    ⎠⎟\n",
       "β⋅⎜─────────── + ─────────────────────⎟\n",
       "  ⎝ m⋅(-β + 1)         m⋅(-β + 1)     ⎠"
      ]
     },
     "execution_count": 113,
     "metadata": {},
     "output_type": "execute_result"
    }
   ],
   "source": [
    "def linear(state):\n",
    "    return (1 - state / 4) / (1 - beta)\n",
    "\n",
    "query_expression_w_linear = query_expression.subs(V(z), linear(z)).subs(V(m - z), linear(m - z))\n",
    "query_expression_w_linear"
   ]
  },
  {
   "cell_type": "code",
   "execution_count": 114,
   "metadata": {},
   "outputs": [
    {
     "data": {
      "image/png": "[encoded data removed]",
      "text/latex": [
       "$$2 \\int_{- \\alpha \\left(m - \\frac{- 4 \\beta + 4}{\\beta}\\right) + \\frac{m}{2}}^{\\frac{m}{2}} \\beta \\left(\\frac{z \\left(- \\frac{z}{4} + 1\\right)}{m \\left(- \\beta + 1\\right)} + \\frac{\\left(m - z\\right) \\left(- \\frac{m}{4} + \\frac{z}{4} + 1\\right)}{m \\left(- \\beta + 1\\right)}\\right)\\, dz$$"
      ],
      "text/plain": [
       "            m                                                      \n",
       "            ─                                                      \n",
       "            2                                                      \n",
       "            ⌠                                                      \n",
       "            ⎮              ⎛  ⎛  z    ⎞           ⎛  m   z    ⎞⎞   \n",
       "            ⎮              ⎜z⋅⎜- ─ + 1⎟   (m - z)⋅⎜- ─ + ─ + 1⎟⎟   \n",
       "            ⎮              ⎜  ⎝  4    ⎠           ⎝  4   4    ⎠⎟   \n",
       "2⋅          ⎮            β⋅⎜─────────── + ─────────────────────⎟ dz\n",
       "            ⎮              ⎝ m⋅(-β + 1)         m⋅(-β + 1)     ⎠   \n",
       "            ⌡                                                      \n",
       "      ⎛    -4⋅β + 4⎞   m                                           \n",
       "  - α⋅⎜m - ────────⎟ + ─                                           \n",
       "      ⎝       β    ⎠   2                                           "
      ]
     },
     "execution_count": 114,
     "metadata": {},
     "output_type": "execute_result"
    }
   ],
   "source": [
    "m0 = 4 * (1 - beta) / beta\n",
    "query_integral = 2 * Integral(query_expression_w_linear, (z, (m / 2) - (alpha * (m - m0)), m/2))\n",
    "query_integral"
   ]
  },
  {
   "cell_type": "code",
   "execution_count": 115,
   "metadata": {},
   "outputs": [
    {
     "data": {
      "image/png": "[encoded data removed]",
      "text/latex": [
       "$$2 \\int_{0}^{- \\alpha \\left(m - \\frac{- 4 \\beta + 4}{\\beta}\\right) + \\frac{m}{2}} \\left(\\beta V{\\left (m \\right )} + 1 - \\frac{z}{m}\\right)\\, dz$$"
      ],
      "text/plain": [
       "      ⎛    -4⋅β + 4⎞   m                    \n",
       "  - α⋅⎜m - ────────⎟ + ─                    \n",
       "      ⎝       β    ⎠   2                    \n",
       "            ⌠                               \n",
       "            ⎮            ⎛             z⎞   \n",
       "2⋅          ⎮            ⎜β⋅V(m) + 1 - ─⎟ dz\n",
       "            ⎮            ⎝             m⎠   \n",
       "            ⌡                               \n",
       "            0                               "
      ]
     },
     "execution_count": 115,
     "metadata": {},
     "output_type": "execute_result"
    }
   ],
   "source": [
    "half = Integer(1)/2\n",
    "guess_unknown_integral = 2 * Integral(half + (half - z/m) + beta * V(m), (z, 0, m/2 - alpha*(m - m0)))\n",
    "guess_unknown_integral"
   ]
  },
  {
   "cell_type": "code",
   "execution_count": 117,
   "metadata": {},
   "outputs": [
    {
     "data": {
      "image/png": "[encoded data removed]",
      "text/latex": [
       "$$\\left(- m + 1\\right) \\left(\\beta V{\\left (m \\right )} + 1\\right)$$"
      ],
      "text/plain": [
       "(-m + 1)⋅(β⋅V(m) + 1)"
      ]
     },
     "execution_count": 117,
     "metadata": {},
     "output_type": "execute_result"
    }
   ],
   "source": [
    "guess_known_integral = (1 - m) * (1 + beta * V(m))\n",
    "guess_known_integral"
   ]
  },
  {
   "cell_type": "code",
   "execution_count": 118,
   "metadata": {},
   "outputs": [
    {
     "data": {
      "image/png": "[encoded data removed]",
      "text/latex": [
       "$$2 \\left(- \\alpha \\left(m - \\frac{- 4 \\beta + 4}{\\beta}\\right) + \\frac{m}{2}\\right) \\left(\\beta V{\\left (m \\right )} + 1\\right) - \\frac{\\left(- \\alpha \\left(m - \\frac{- 4 \\beta + 4}{\\beta}\\right) + \\frac{m}{2}\\right)^{2}}{m}$$"
      ],
      "text/plain": [
       "                                                                  2\n",
       "                                          ⎛    ⎛    -4⋅β + 4⎞   m⎞ \n",
       "                                          ⎜- α⋅⎜m - ────────⎟ + ─⎟ \n",
       "  ⎛    ⎛    -4⋅β + 4⎞   m⎞                ⎝    ⎝       β    ⎠   2⎠ \n",
       "2⋅⎜- α⋅⎜m - ────────⎟ + ─⎟⋅(β⋅V(m) + 1) - ─────────────────────────\n",
       "  ⎝    ⎝       β    ⎠   2⎠                            m            "
      ]
     },
     "execution_count": 118,
     "metadata": {},
     "output_type": "execute_result"
    }
   ],
   "source": [
    "guess_unknown_value = guess_unknown_integral.doit()\n",
    "guess_unknown_value"
   ]
  },
  {
   "cell_type": "code",
   "execution_count": 119,
   "metadata": {},
   "outputs": [
    {
     "data": {
      "image/png": "[encoded data removed]",
      "text/latex": [
       "$$\\left(- m + 1\\right) \\left(\\beta V{\\left (m \\right )} + 1\\right) - V{\\left (m \\right )} + 2 \\int_{- \\alpha \\left(m - \\frac{- 4 \\beta + 4}{\\beta}\\right) + \\frac{m}{2}}^{\\frac{m}{2}} \\beta \\left(\\frac{z \\left(- \\frac{z}{4} + 1\\right)}{m \\left(- \\beta + 1\\right)} + \\frac{\\left(m - z\\right) \\left(- \\frac{m}{4} + \\frac{z}{4} + 1\\right)}{m \\left(- \\beta + 1\\right)}\\right)\\, dz + 2 \\int_{0}^{- \\alpha \\left(m - \\frac{- 4 \\beta + 4}{\\beta}\\right) + \\frac{m}{2}} \\left(\\beta V{\\left (m \\right )} + 1 - \\frac{z}{m}\\right)\\, dz$$"
      ],
      "text/plain": [
       "                                           m                                  \n",
       "                                           ─                                  \n",
       "                                           2                                  \n",
       "                                           ⌠                                  \n",
       "                                           ⎮              ⎛  ⎛  z    ⎞        \n",
       "                                           ⎮              ⎜z⋅⎜- ─ + 1⎟   (m - \n",
       "                                           ⎮              ⎜  ⎝  4    ⎠        \n",
       "(-m + 1)⋅(β⋅V(m) + 1) - V(m) + 2⋅          ⎮            β⋅⎜─────────── + ─────\n",
       "                                           ⎮              ⎝ m⋅(-β + 1)        \n",
       "                                           ⌡                                  \n",
       "                                     ⎛    -4⋅β + 4⎞   m                       \n",
       "                                 - α⋅⎜m - ────────⎟ + ─                       \n",
       "                                     ⎝       β    ⎠   2                       \n",
       "\n",
       "                                                                   \n",
       "                                                                   \n",
       "                             ⎛    -4⋅β + 4⎞   m                    \n",
       "                         - α⋅⎜m - ────────⎟ + ─                    \n",
       "   ⎛  m   z    ⎞⎞            ⎝       β    ⎠   2                    \n",
       "z)⋅⎜- ─ + ─ + 1⎟⎟                  ⌠                               \n",
       "   ⎝  4   4    ⎠⎟                  ⎮            ⎛             z⎞   \n",
       "────────────────⎟ dz + 2⋅          ⎮            ⎜β⋅V(m) + 1 - ─⎟ dz\n",
       " m⋅(-β + 1)     ⎠                  ⎮            ⎝             m⎠   \n",
       "                                   ⌡                               \n",
       "                                   0                               \n",
       "                                                                   \n",
       "                                                                   "
      ]
     },
     "execution_count": 119,
     "metadata": {},
     "output_type": "execute_result"
    }
   ],
   "source": [
    "should_be_zero = query_integral + guess_unknown_integral + guess_known_integral - V(m)\n",
    "should_be_zero"
   ]
  },
  {
   "cell_type": "code",
   "execution_count": 149,
   "metadata": {},
   "outputs": [],
   "source": [
    "solutionsfoo = solveset(should_be_zero, V(m))"
   ]
  },
  {
   "cell_type": "code",
   "execution_count": 150,
   "metadata": {},
   "outputs": [
    {
     "data": {
      "image/png": "[encoded data removed]",
      "text/latex": [
       "$$\\left\\{V{\\left (m \\right )} \\mid V{\\left (m \\right )} \\in \\mathbb{C} \\wedge \\left(- m + 1\\right) \\left(\\beta V{\\left (m \\right )} + 1\\right) - V{\\left (m \\right )} + 2 \\int_{- \\alpha \\left(m - \\frac{- 4 \\beta + 4}{\\beta}\\right) + \\frac{m}{2}}^{\\frac{m}{2}} \\beta \\left(\\frac{z \\left(- \\frac{z}{4} + 1\\right)}{m \\left(- \\beta + 1\\right)} + \\frac{\\left(m - z\\right) \\left(- \\frac{m}{4} + \\frac{z}{4} + 1\\right)}{m \\left(- \\beta + 1\\right)}\\right)\\, dz + 2 \\int_{0}^{- \\alpha \\left(m - \\frac{- 4 \\beta + 4}{\\beta}\\right) + \\frac{m}{2}} \\left(\\beta V{\\left (m \\right )} + 1 - \\frac{z}{m}\\right)\\, dz = 0 \\right\\}$$"
      ],
      "text/plain": [
       "⎧                                                             m               \n",
       "⎪                                                             ─               \n",
       "⎪                                                             2               \n",
       "⎪                                                             ⌠               \n",
       "⎪                                                             ⎮              ⎛\n",
       "⎪                                                             ⎮              ⎜\n",
       "⎨                                                             ⎮              ⎜\n",
       "⎪V(m) | V(m) ∊ ℂ ∧ (-m + 1)⋅(β⋅V(m) + 1) - V(m) + 2⋅          ⎮            β⋅⎜\n",
       "⎪                                                             ⎮              ⎝\n",
       "⎪                                                             ⌡               \n",
       "⎪                                                       ⎛    -4⋅β + 4⎞   m    \n",
       "⎪                                                   - α⋅⎜m - ────────⎟ + ─    \n",
       "⎩                                                       ⎝       β    ⎠   2    \n",
       "\n",
       "                                                                              \n",
       "                                                                              \n",
       "                                                ⎛    -4⋅β + 4⎞   m            \n",
       "                                            - α⋅⎜m - ────────⎟ + ─            \n",
       "  ⎛  z    ⎞           ⎛  m   z    ⎞⎞            ⎝       β    ⎠   2            \n",
       "z⋅⎜- ─ + 1⎟   (m - z)⋅⎜- ─ + ─ + 1⎟⎟                  ⌠                       \n",
       "  ⎝  4    ⎠           ⎝  4   4    ⎠⎟                  ⎮            ⎛          \n",
       "─────────── + ─────────────────────⎟ dz + 2⋅          ⎮            ⎜β⋅V(m) + 1\n",
       " m⋅(-β + 1)         m⋅(-β + 1)     ⎠                  ⎮            ⎝          \n",
       "                                                      ⌡                       \n",
       "                                                      0                       \n",
       "                                                                              \n",
       "                                                                              \n",
       "\n",
       "            ⎫\n",
       "            ⎪\n",
       "            ⎪\n",
       "            ⎪\n",
       "            ⎪\n",
       "            ⎪\n",
       "   z⎞       ⎬\n",
       " - ─⎟ dz = 0⎪\n",
       "   m⎠       ⎪\n",
       "            ⎪\n",
       "            ⎪\n",
       "            ⎪\n",
       "            ⎭"
      ]
     },
     "execution_count": 150,
     "metadata": {},
     "output_type": "execute_result"
    }
   ],
   "source": [
    "solutionsfoo"
   ]
  },
  {
   "cell_type": "code",
   "execution_count": 120,
   "metadata": {},
   "outputs": [
    {
     "data": {
      "image/png": "[encoded data removed]",
      "text/latex": [
       "$$\\frac{\\beta m^{3}}{4 \\left(6 \\beta m - 6 m\\right)} - \\frac{\\beta m^{2}}{2 \\left(4 \\beta - 4\\right)} - \\frac{2 \\beta \\left(- \\alpha \\left(m - \\frac{- 4 \\beta + 4}{\\beta}\\right) + \\frac{m}{2}\\right)^{3}}{6 \\beta m - 6 m} + \\frac{2 \\beta \\left(- \\alpha \\left(m - \\frac{- 4 \\beta + 4}{\\beta}\\right) + \\frac{m}{2}\\right)^{2}}{4 \\beta - 4} + \\frac{m \\left(\\beta m - 4 \\beta\\right)}{4 \\beta - 4} + \\left(- m + 1\\right) \\left(\\beta V{\\left (m \\right )} + 1\\right) + 2 \\left(- \\alpha \\left(m - \\frac{- 4 \\beta + 4}{\\beta}\\right) + \\frac{m}{2}\\right) \\left(\\beta V{\\left (m \\right )} + 1\\right) - V{\\left (m \\right )} - \\frac{2 \\left(- \\alpha \\left(m - \\frac{- 4 \\beta + 4}{\\beta}\\right) + \\frac{m}{2}\\right) \\left(\\beta m - 4 \\beta\\right)}{4 \\beta - 4} - \\frac{\\left(- \\alpha \\left(m - \\frac{- 4 \\beta + 4}{\\beta}\\right) + \\frac{m}{2}\\right)^{2}}{m}$$"
      ],
      "text/plain": [
       "                                                            3                 \n",
       "                                    ⎛    ⎛    -4⋅β + 4⎞   m⎞        ⎛    ⎛    \n",
       "         3               2      2⋅β⋅⎜- α⋅⎜m - ────────⎟ + ─⎟    2⋅β⋅⎜- α⋅⎜m - \n",
       "      β⋅m             β⋅m           ⎝    ⎝       β    ⎠   2⎠        ⎝    ⎝    \n",
       "─────────────── - ─────────── - ───────────────────────────── + ──────────────\n",
       "4⋅(6⋅β⋅m - 6⋅m)   2⋅(4⋅β - 4)            6⋅β⋅m - 6⋅m                       4⋅β\n",
       "\n",
       "              2                                                               \n",
       "-4⋅β + 4⎞   m⎞                                                                \n",
       "────────⎟ + ─⎟                                                                \n",
       "   β    ⎠   2⎠    m⋅(β⋅m - 4⋅β)                             ⎛    ⎛    -4⋅β + 4\n",
       "─────────────── + ───────────── + (-m + 1)⋅(β⋅V(m) + 1) + 2⋅⎜- α⋅⎜m - ────────\n",
       " - 4                 4⋅β - 4                                ⎝    ⎝       β    \n",
       "\n",
       "                                                                              \n",
       "                               ⎛    ⎛    -4⋅β + 4⎞   m⎞               ⎛    ⎛  \n",
       "                             2⋅⎜- α⋅⎜m - ────────⎟ + ─⎟⋅(β⋅m - 4⋅β)   ⎜- α⋅⎜m \n",
       "⎞   m⎞                         ⎝    ⎝       β    ⎠   2⎠               ⎝    ⎝  \n",
       "⎟ + ─⎟⋅(β⋅V(m) + 1) - V(m) - ────────────────────────────────────── - ────────\n",
       "⎠   2⎠                                      4⋅β - 4                           \n",
       "\n",
       "                2\n",
       "  -4⋅β + 4⎞   m⎞ \n",
       "- ────────⎟ + ─⎟ \n",
       "     β    ⎠   2⎠ \n",
       "─────────────────\n",
       "    m            "
      ]
     },
     "execution_count": 120,
     "metadata": {},
     "output_type": "execute_result"
    }
   ],
   "source": [
    "should_be_zero_evald = should_be_zero.doit()\n",
    "should_be_zero_evald"
   ]
  },
  {
   "cell_type": "code",
   "execution_count": 121,
   "metadata": {},
   "outputs": [
    {
     "data": {
      "image/png": "[encoded data removed]",
      "text/latex": [
       "$$\\frac{2 \\alpha^{3} \\beta m^{3}}{6 \\beta m - 6 m} + \\frac{24 \\alpha^{3} \\beta m^{2}}{6 \\beta m - 6 m} + \\frac{96 \\alpha^{3} \\beta m}{6 \\beta m - 6 m} + \\frac{128 \\alpha^{3} \\beta}{6 \\beta m - 6 m} - \\frac{24 \\alpha^{3} m^{2}}{6 \\beta m - 6 m} + \\frac{96 \\alpha^{3} m}{6 \\beta^{2} m - 6 \\beta m} - \\frac{192 \\alpha^{3} m}{6 \\beta m - 6 m} - \\frac{128 \\alpha^{3}}{6 \\beta^{3} m - 6 \\beta^{2} m} + \\frac{384 \\alpha^{3}}{6 \\beta^{2} m - 6 \\beta m} - \\frac{384 \\alpha^{3}}{6 \\beta m - 6 m} - \\frac{3 \\alpha^{2} \\beta m^{3}}{6 \\beta m - 6 m} - \\frac{24 \\alpha^{2} \\beta m^{2}}{6 \\beta m - 6 m} + \\frac{2 \\alpha^{2} \\beta m^{2}}{4 \\beta - 4} - \\frac{48 \\alpha^{2} \\beta m}{6 \\beta m - 6 m} + \\frac{16 \\alpha^{2} \\beta m}{4 \\beta - 4} + \\frac{32 \\alpha^{2} \\beta}{4 \\beta - 4} + \\frac{24 \\alpha^{2} m^{2}}{6 \\beta m - 6 m} - \\alpha^{2} m - \\frac{48 \\alpha^{2} m}{6 \\beta^{2} m - 6 \\beta m} + \\frac{96 \\alpha^{2} m}{6 \\beta m - 6 m} - \\frac{16 \\alpha^{2} m}{4 \\beta - 4} - 8 \\alpha^{2} + \\frac{32 \\alpha^{2}}{4 \\beta^{2} - 4 \\beta} - \\frac{64 \\alpha^{2}}{4 \\beta - 4} - \\frac{16 \\alpha^{2}}{m} + \\frac{8 \\alpha^{2}}{\\beta} + \\frac{32 \\alpha^{2}}{\\beta m} - \\frac{16 \\alpha^{2}}{\\beta^{2} m} + \\frac{3 \\alpha \\beta m^{3}}{2 \\left(6 \\beta m - 6 m\\right)} + \\frac{6 \\alpha \\beta m^{2}}{6 \\beta m - 6 m} - \\frac{8 \\alpha \\beta m}{4 \\beta - 4} - \\frac{32 \\alpha \\beta}{4 \\beta - 4} - \\frac{6 \\alpha m^{2}}{6 \\beta m - 6 m} - \\alpha m - 4 \\alpha + \\frac{32 \\alpha}{4 \\beta - 4} + \\frac{4 \\alpha}{\\beta} - \\frac{m}{4} + \\left(- 2 \\alpha \\beta m - 8 \\alpha \\beta + 8 \\alpha + \\beta - 1\\right) V{\\left (m \\right )} + 1$$"
      ],
      "text/plain": [
       "    3    3         3    2        3               3            3  2           3\n",
       " 2⋅α ⋅β⋅m      24⋅α ⋅β⋅m     96⋅α ⋅β⋅m      128⋅α ⋅β      24⋅α ⋅m        96⋅α \n",
       "─────────── + ─────────── + ─────────── + ─────────── - ─────────── + ────────\n",
       "6⋅β⋅m - 6⋅m   6⋅β⋅m - 6⋅m   6⋅β⋅m - 6⋅m   6⋅β⋅m - 6⋅m   6⋅β⋅m - 6⋅m      2    \n",
       "                                                                      6⋅β ⋅m -\n",
       "\n",
       "                3                3                3               3         2 \n",
       "⋅m         192⋅α ⋅m         128⋅α            384⋅α           384⋅α       3⋅α ⋅\n",
       "────── - ─────────── - ─────────────── + ────────────── - ─────────── - ──────\n",
       "         6⋅β⋅m - 6⋅m      3        2        2             6⋅β⋅m - 6⋅m   6⋅β⋅m \n",
       " 6⋅β⋅m                 6⋅β ⋅m - 6⋅β ⋅m   6⋅β ⋅m - 6⋅β⋅m                       \n",
       "\n",
       "   3         2    2      2    2        2            2           2           2 \n",
       "β⋅m      24⋅α ⋅β⋅m    2⋅α ⋅β⋅m     48⋅α ⋅β⋅m    16⋅α ⋅β⋅m   32⋅α ⋅β     24⋅α ⋅\n",
       "───── - ─────────── + ───────── - ─────────── + ───────── + ─────── + ────────\n",
       "- 6⋅m   6⋅β⋅m - 6⋅m    4⋅β - 4    6⋅β⋅m - 6⋅m    4⋅β - 4    4⋅β - 4   6⋅β⋅m - \n",
       "                                                                              \n",
       "\n",
       " 2                  2               2           2                  2          \n",
       "m      2        48⋅α ⋅m         96⋅α ⋅m     16⋅α ⋅m      2     32⋅α        64⋅\n",
       "─── - α ⋅m - ────────────── + ─────────── - ─────── - 8⋅α  + ────────── - ────\n",
       "6⋅m             2             6⋅β⋅m - 6⋅m   4⋅β - 4             2         4⋅β \n",
       "             6⋅β ⋅m - 6⋅β⋅m                                  4⋅β  - 4⋅β       \n",
       "\n",
       " 2        2      2       2       2              3               2             \n",
       "α     16⋅α    8⋅α    32⋅α    16⋅α        3⋅α⋅β⋅m         6⋅α⋅β⋅m     8⋅α⋅β⋅m  \n",
       "─── - ───── + ──── + ───── - ───── + ─────────────── + ─────────── - ─────── -\n",
       "- 4     m      β      β⋅m      2     2⋅(6⋅β⋅m - 6⋅m)   6⋅β⋅m - 6⋅m   4⋅β - 4  \n",
       "                              β ⋅m                                            \n",
       "\n",
       "                   2                                                          \n",
       "  32⋅α⋅β      6⋅α⋅m                    32⋅α    4⋅α   m                        \n",
       " ─────── - ─────────── - α⋅m - 4⋅α + ─────── + ─── - ─ + (-2⋅α⋅β⋅m - 8⋅α⋅β + 8\n",
       " 4⋅β - 4   6⋅β⋅m - 6⋅m               4⋅β - 4    β    4                        \n",
       "                                                                              \n",
       "\n",
       "                    \n",
       "                    \n",
       "⋅α + β - 1)⋅V(m) + 1\n",
       "                    \n",
       "                    "
      ]
     },
     "execution_count": 121,
     "metadata": {},
     "output_type": "execute_result"
    }
   ],
   "source": [
    "should_be_zero_evald.expand().collect(V(m))"
   ]
  },
  {
   "cell_type": "code",
   "execution_count": 122,
   "metadata": {},
   "outputs": [
    {
     "data": {
      "image/png": "[encoded data removed]",
      "text/latex": [
       "$$\\left\\{\\frac{4 \\alpha^{3} \\beta^{3} m^{3} + 48 \\alpha^{3} \\beta^{3} m^{2} + 192 \\alpha^{3} \\beta^{3} m + 256 \\alpha^{3} \\beta^{3} - 48 \\alpha^{3} \\beta^{2} m^{2} - 384 \\alpha^{3} \\beta^{2} m - 768 \\alpha^{3} \\beta^{2} + 192 \\alpha^{3} \\beta m + 768 \\alpha^{3} \\beta - 256 \\alpha^{3} - 12 \\alpha^{2} \\beta^{3} m^{2} - 96 \\alpha^{2} \\beta^{3} m - 192 \\alpha^{2} \\beta^{3} + 12 \\alpha^{2} \\beta^{2} m^{2} + 192 \\alpha^{2} \\beta^{2} m + 576 \\alpha^{2} \\beta^{2} - 96 \\alpha^{2} \\beta m - 576 \\alpha^{2} \\beta + 192 \\alpha^{2} + 3 \\alpha \\beta^{3} m^{3} - 24 \\alpha \\beta^{3} m^{2} - 144 \\alpha \\beta^{3} m + 192 \\alpha \\beta^{2} m - 48 \\alpha \\beta m - 3 \\beta^{3} m^{2} + 12 \\beta^{3} m + 3 \\beta^{2} m^{2} - 12 \\beta^{2} m}{12 \\beta^{2} m \\left(\\beta - 1\\right) \\left(2 \\alpha \\beta m + 8 \\alpha \\beta - 8 \\alpha - \\beta + 1\\right)}\\right\\}$$"
      ],
      "text/plain": [
       "⎧   3  3  3       3  3  2        3  3          3  3       3  2  2        3  2 \n",
       "⎪4⋅α ⋅β ⋅m  + 48⋅α ⋅β ⋅m  + 192⋅α ⋅β ⋅m + 256⋅α ⋅β  - 48⋅α ⋅β ⋅m  - 384⋅α ⋅β ⋅\n",
       "⎨─────────────────────────────────────────────────────────────────────────────\n",
       "⎪                                                                             \n",
       "⎩                                                                             \n",
       "\n",
       "         3  2        3            3          3       2  3  2       2  3       \n",
       "m - 768⋅α ⋅β  + 192⋅α ⋅β⋅m + 768⋅α ⋅β - 256⋅α  - 12⋅α ⋅β ⋅m  - 96⋅α ⋅β ⋅m - 19\n",
       "──────────────────────────────────────────────────────────────────────────────\n",
       "                                                                       2      \n",
       "                                                                   12⋅β ⋅m⋅(β \n",
       "\n",
       "   2  3       2  2  2        2  2          2  2       2            2          \n",
       "2⋅α ⋅β  + 12⋅α ⋅β ⋅m  + 192⋅α ⋅β ⋅m + 576⋅α ⋅β  - 96⋅α ⋅β⋅m - 576⋅α ⋅β + 192⋅α\n",
       "──────────────────────────────────────────────────────────────────────────────\n",
       "                                                                              \n",
       "- 1)⋅(2⋅α⋅β⋅m + 8⋅α⋅β - 8⋅α - β + 1)                                          \n",
       "\n",
       "2        3  3         3  2          3            2                   3  2     \n",
       "  + 3⋅α⋅β ⋅m  - 24⋅α⋅β ⋅m  - 144⋅α⋅β ⋅m + 192⋅α⋅β ⋅m - 48⋅α⋅β⋅m - 3⋅β ⋅m  + 12\n",
       "──────────────────────────────────────────────────────────────────────────────\n",
       "                                                                              \n",
       "                                                                              \n",
       "\n",
       "  3        2  2       2  ⎫\n",
       "⋅β ⋅m + 3⋅β ⋅m  - 12⋅β ⋅m⎪\n",
       "─────────────────────────⎬\n",
       "                         ⎪\n",
       "                         ⎭"
      ]
     },
     "execution_count": 122,
     "metadata": {},
     "output_type": "execute_result"
    }
   ],
   "source": [
    "solutions = solveset(should_be_zero_evald, V(m))\n",
    "solutions"
   ]
  },
  {
   "cell_type": "code",
   "execution_count": 123,
   "metadata": {},
   "outputs": [],
   "source": [
    "solution = list(solutions)[0]"
   ]
  },
  {
   "cell_type": "code",
   "execution_count": 124,
   "metadata": {},
   "outputs": [
    {
     "data": {
      "image/png": "[encoded data removed]",
      "text/latex": [
       "$$\\frac{4 \\alpha^{3} \\beta^{3} m^{3} + 48 \\alpha^{3} \\beta^{3} m^{2} + 192 \\alpha^{3} \\beta^{3} m + 256 \\alpha^{3} \\beta^{3} - 48 \\alpha^{3} \\beta^{2} m^{2} - 384 \\alpha^{3} \\beta^{2} m - 768 \\alpha^{3} \\beta^{2} + 192 \\alpha^{3} \\beta m + 768 \\alpha^{3} \\beta - 256 \\alpha^{3} - 12 \\alpha^{2} \\beta^{3} m^{2} - 96 \\alpha^{2} \\beta^{3} m - 192 \\alpha^{2} \\beta^{3} + 12 \\alpha^{2} \\beta^{2} m^{2} + 192 \\alpha^{2} \\beta^{2} m + 576 \\alpha^{2} \\beta^{2} - 96 \\alpha^{2} \\beta m - 576 \\alpha^{2} \\beta + 192 \\alpha^{2} + 3 \\alpha \\beta^{3} m^{3} - 24 \\alpha \\beta^{3} m^{2} - 144 \\alpha \\beta^{3} m + 192 \\alpha \\beta^{2} m - 48 \\alpha \\beta m - 3 \\beta^{3} m^{2} + 12 \\beta^{3} m + 3 \\beta^{2} m^{2} - 12 \\beta^{2} m}{12 \\beta^{2} m \\left(\\beta - 1\\right) \\left(2 \\alpha \\beta m + 8 \\alpha \\beta - 8 \\alpha - \\beta + 1\\right)}$$"
      ],
      "text/plain": [
       "   3  3  3       3  3  2        3  3          3  3       3  2  2        3  2  \n",
       "4⋅α ⋅β ⋅m  + 48⋅α ⋅β ⋅m  + 192⋅α ⋅β ⋅m + 256⋅α ⋅β  - 48⋅α ⋅β ⋅m  - 384⋅α ⋅β ⋅m\n",
       "──────────────────────────────────────────────────────────────────────────────\n",
       "                                                                              \n",
       "                                                                              \n",
       "\n",
       "        3  2        3            3          3       2  3  2       2  3        \n",
       " - 768⋅α ⋅β  + 192⋅α ⋅β⋅m + 768⋅α ⋅β - 256⋅α  - 12⋅α ⋅β ⋅m  - 96⋅α ⋅β ⋅m - 192\n",
       "──────────────────────────────────────────────────────────────────────────────\n",
       "                                                                      2       \n",
       "                                                                  12⋅β ⋅m⋅(β -\n",
       "\n",
       "  2  3       2  2  2        2  2          2  2       2            2          2\n",
       "⋅α ⋅β  + 12⋅α ⋅β ⋅m  + 192⋅α ⋅β ⋅m + 576⋅α ⋅β  - 96⋅α ⋅β⋅m - 576⋅α ⋅β + 192⋅α \n",
       "──────────────────────────────────────────────────────────────────────────────\n",
       "                                                                              \n",
       " 1)⋅(2⋅α⋅β⋅m + 8⋅α⋅β - 8⋅α - β + 1)                                           \n",
       "\n",
       "        3  3         3  2          3            2                   3  2      \n",
       " + 3⋅α⋅β ⋅m  - 24⋅α⋅β ⋅m  - 144⋅α⋅β ⋅m + 192⋅α⋅β ⋅m - 48⋅α⋅β⋅m - 3⋅β ⋅m  + 12⋅\n",
       "──────────────────────────────────────────────────────────────────────────────\n",
       "                                                                              \n",
       "                                                                              \n",
       "\n",
       " 3        2  2       2  \n",
       "β ⋅m + 3⋅β ⋅m  - 12⋅β ⋅m\n",
       "────────────────────────\n",
       "                        \n",
       "                        "
      ]
     },
     "execution_count": 124,
     "metadata": {},
     "output_type": "execute_result"
    }
   ],
   "source": [
    "solution"
   ]
  },
  {
   "cell_type": "code",
   "execution_count": 125,
   "metadata": {},
   "outputs": [
    {
     "data": {
      "image/png": "[encoded data removed]",
      "text/latex": [
       "$$\\frac{\\frac{\\alpha^{3} \\beta^{3} m^{3}}{3} + 4 \\alpha^{3} \\beta^{3} m^{2} + 16 \\alpha^{3} \\beta^{3} m + \\frac{64 \\alpha^{3} \\beta^{3}}{3} - 4 \\alpha^{3} \\beta^{2} m^{2} - 32 \\alpha^{3} \\beta^{2} m - 64 \\alpha^{3} \\beta^{2} + 16 \\alpha^{3} \\beta m + 64 \\alpha^{3} \\beta - \\frac{64 \\alpha^{3}}{3} - \\alpha^{2} \\beta^{3} m^{2} - 8 \\alpha^{2} \\beta^{3} m - 16 \\alpha^{2} \\beta^{3} + \\alpha^{2} \\beta^{2} m^{2} + 16 \\alpha^{2} \\beta^{2} m + 48 \\alpha^{2} \\beta^{2} - 8 \\alpha^{2} \\beta m - 48 \\alpha^{2} \\beta + 16 \\alpha^{2} + \\frac{\\alpha \\beta^{3} m^{3}}{4} - 2 \\alpha \\beta^{3} m^{2} - 12 \\alpha \\beta^{3} m + 16 \\alpha \\beta^{2} m - 4 \\alpha \\beta m - \\frac{\\beta^{3} m^{2}}{4} + \\beta^{3} m + \\frac{\\beta^{2} m^{2}}{4} - \\beta^{2} m}{\\beta^{2} m \\left(\\beta - 1\\right) \\left(2 \\alpha \\beta m + 8 \\alpha \\beta - 8 \\alpha - \\beta + 1\\right)}$$"
      ],
      "text/plain": [
       " 3  3  3                                 3  3                                 \n",
       "α ⋅β ⋅m       3  3  2       3  3     64⋅α ⋅β       3  2  2       3  2         \n",
       "──────── + 4⋅α ⋅β ⋅m  + 16⋅α ⋅β ⋅m + ──────── - 4⋅α ⋅β ⋅m  - 32⋅α ⋅β ⋅m - 64⋅α\n",
       "   3                                    3                                     \n",
       "──────────────────────────────────────────────────────────────────────────────\n",
       "                                                                              \n",
       "                                                                              \n",
       "\n",
       "                                 3                                            \n",
       "3  2       3           3     64⋅α     2  3  2      2  3         2  3    2  2  \n",
       " ⋅β  + 16⋅α ⋅β⋅m + 64⋅α ⋅β - ───── - α ⋅β ⋅m  - 8⋅α ⋅β ⋅m - 16⋅α ⋅β  + α ⋅β ⋅m\n",
       "                               3                                              \n",
       "──────────────────────────────────────────────────────────────────────────────\n",
       "                                                 2                            \n",
       "                                                β ⋅m⋅(β - 1)⋅(2⋅α⋅β⋅m + 8⋅α⋅β \n",
       "\n",
       "                                                            3  3              \n",
       "2       2  2         2  2      2           2         2   α⋅β ⋅m         3  2  \n",
       "  + 16⋅α ⋅β ⋅m + 48⋅α ⋅β  - 8⋅α ⋅β⋅m - 48⋅α ⋅β + 16⋅α  + ─────── - 2⋅α⋅β ⋅m  -\n",
       "                                                            4                 \n",
       "──────────────────────────────────────────────────────────────────────────────\n",
       "                                                                              \n",
       "- 8⋅α - β + 1)                                                                \n",
       "\n",
       "                                    3  2           2  2       \n",
       "       3           2               β ⋅m     3     β ⋅m     2  \n",
       " 12⋅α⋅β ⋅m + 16⋅α⋅β ⋅m - 4⋅α⋅β⋅m - ───── + β ⋅m + ───── - β ⋅m\n",
       "                                     4              4         \n",
       "──────────────────────────────────────────────────────────────\n",
       "                                                              \n",
       "                                                              "
      ]
     },
     "execution_count": 125,
     "metadata": {},
     "output_type": "execute_result"
    }
   ],
   "source": [
    "solution.simplify()"
   ]
  },
  {
   "cell_type": "code",
   "execution_count": 126,
   "metadata": {},
   "outputs": [],
   "source": [
    "# This is what I have to work with, after plugging in alpha = fixed fraction of m - m0"
   ]
  },
  {
   "cell_type": "code",
   "execution_count": 127,
   "metadata": {},
   "outputs": [],
   "source": [
    "concretized = solution.subs(beta, 0.99).subs(alpha, 0.6)"
   ]
  },
  {
   "cell_type": "code",
   "execution_count": 128,
   "metadata": {},
   "outputs": [
    {
     "data": {
      "image/png": "[encoded data removed]",
      "text/latex": [
       "$$- \\frac{8.502533755059 \\left(2.584876536 m^{3} - 14.002179048 m^{2} + 0.444758687999977 m + 1.38239999814687 \\cdot 10^{-5}\\right)}{m \\left(1.188 m - 0.038\\right)}$$"
      ],
      "text/plain": [
       "                ⎛             3                 2                             \n",
       "-8.502533755059⋅⎝2.584876536⋅m  - 14.002179048⋅m  + 0.444758687999977⋅m + 1.38\n",
       "──────────────────────────────────────────────────────────────────────────────\n",
       "                                      m⋅(1.188⋅m - 0.038)                     \n",
       "\n",
       "               ⎞ \n",
       "239999814687e-5⎠ \n",
       "─────────────────\n",
       "                 "
      ]
     },
     "execution_count": 128,
     "metadata": {},
     "output_type": "execute_result"
    }
   ],
   "source": [
    "concretized"
   ]
  },
  {
   "cell_type": "code",
   "execution_count": 129,
   "metadata": {},
   "outputs": [],
   "source": [
    "# What I'd really like to do is express everything in terms of m - m0. Call that delta-m"
   ]
  },
  {
   "cell_type": "code",
   "execution_count": 130,
   "metadata": {},
   "outputs": [],
   "source": [
    "delta_m = Symbol(\"\\Delta m\")"
   ]
  },
  {
   "cell_type": "code",
   "execution_count": 131,
   "metadata": {},
   "outputs": [],
   "source": [
    "# We know that m = m0 + delta_m."
   ]
  },
  {
   "cell_type": "code",
   "execution_count": 132,
   "metadata": {},
   "outputs": [],
   "source": [
    "reparam = solution.subs(m, m0 + delta_m)"
   ]
  },
  {
   "cell_type": "code",
   "execution_count": 133,
   "metadata": {},
   "outputs": [
    {
     "data": {
      "image/png": "[encoded data removed]",
      "text/latex": [
       "$$\\frac{\\frac{\\Delta m^{3} \\alpha^{3} \\beta^{3}}{3} + \\frac{\\Delta m^{3} \\alpha \\beta^{3}}{4} - \\Delta m^{2} \\alpha^{2} \\beta^{3} + \\Delta m^{2} \\alpha^{2} \\beta^{2} - 5 \\Delta m^{2} \\alpha \\beta^{3} + 3 \\Delta m^{2} \\alpha \\beta^{2} - \\frac{\\Delta m^{2} \\beta^{3}}{4} + \\frac{\\Delta m^{2} \\beta^{2}}{4} + 16 \\Delta m \\alpha \\beta^{3} - 24 \\Delta m \\alpha \\beta^{2} + 8 \\Delta m \\alpha \\beta + 3 \\Delta m \\beta^{3} - 5 \\Delta m \\beta^{2} + 2 \\Delta m \\beta - 8 \\beta^{3} + 20 \\beta^{2} - 16 \\beta + 4}{\\beta \\left(2 \\Delta m^{2} \\alpha \\beta^{3} - 2 \\Delta m^{2} \\alpha \\beta^{2} - 8 \\Delta m \\alpha \\beta^{3} + 16 \\Delta m \\alpha \\beta^{2} - 8 \\Delta m \\alpha \\beta - \\Delta m \\beta^{3} + 2 \\Delta m \\beta^{2} - \\Delta m \\beta + 4 \\beta^{3} - 12 \\beta^{2} + 12 \\beta - 4\\right)}$$"
      ],
      "text/plain": [
       "        3  3  3           3    3                                              \n",
       "\\Delta m ⋅α ⋅β    \\Delta m ⋅α⋅β            2  2  3           2  2  2          \n",
       "─────────────── + ────────────── - \\Delta m ⋅α ⋅β  + \\Delta m ⋅α ⋅β  - 5⋅\\Delt\n",
       "       3                4                                                     \n",
       "──────────────────────────────────────────────────────────────────────────────\n",
       "                                                     ⎛          2    3        \n",
       "                                                   β⋅⎝2⋅\\Delta m ⋅α⋅β  - 2⋅\\De\n",
       "\n",
       "                                       2  3           2  2                    \n",
       "   2    3             2    2   \\Delta m ⋅β    \\Delta m ⋅β                   3 \n",
       "a m ⋅α⋅β  + 3⋅\\Delta m ⋅α⋅β  - ──────────── + ──────────── + 16⋅\\Delta m⋅α⋅β  \n",
       "                                    4              4                          \n",
       "──────────────────────────────────────────────────────────────────────────────\n",
       "     2    2                 3                  2                              \n",
       "lta m ⋅α⋅β  - 8⋅\\Delta m⋅α⋅β  + 16⋅\\Delta m⋅α⋅β  - 8⋅\\Delta m⋅α⋅β - \\Delta m⋅β\n",
       "\n",
       "                                                                              \n",
       "                 2                                3               2           \n",
       "- 24⋅\\Delta m⋅α⋅β  + 8⋅\\Delta m⋅α⋅β + 3⋅\\Delta m⋅β  - 5⋅\\Delta m⋅β  + 2⋅\\Delta\n",
       "                                                                              \n",
       "──────────────────────────────────────────────────────────────────────────────\n",
       "3               2                   3       2           ⎞                     \n",
       "  + 2⋅\\Delta m⋅β  - \\Delta m⋅β + 4⋅β  - 12⋅β  + 12⋅β - 4⎠                     \n",
       "\n",
       "                              \n",
       "          3       2           \n",
       " m⋅β - 8⋅β  + 20⋅β  - 16⋅β + 4\n",
       "                              \n",
       "──────────────────────────────\n",
       "                              \n",
       "                              "
      ]
     },
     "execution_count": 133,
     "metadata": {},
     "output_type": "execute_result"
    }
   ],
   "source": [
    "reparam.simplify()"
   ]
  },
  {
   "cell_type": "code",
   "execution_count": 134,
   "metadata": {},
   "outputs": [],
   "source": [
    "reparam_concretized = reparam.simplify().subs(beta, 0.99).subs(alpha, 0.10)"
   ]
  },
  {
   "cell_type": "code",
   "execution_count": 135,
   "metadata": {},
   "outputs": [
    {
     "data": {
      "image/png": "[encoded data removed]",
      "text/latex": [
       "$$\\frac{1.01010101010101 \\left(0.024580908 \\Delta m^{3} - 0.18857124 \\Delta m^{2} - 0.0173645999999995 \\Delta m - 0.000392000000001502\\right)}{- 0.00196019999999999 \\Delta m^{2} - 0.000178200000000128 \\Delta m - 4.00000000055911 \\cdot 10^{-6}}$$"
      ],
      "text/plain": [
       "                 ⎛                    3                      2                \n",
       "1.01010101010101⋅⎝0.024580908⋅\\Delta m  - 0.18857124⋅\\Delta m  - 0.01736459999\n",
       "──────────────────────────────────────────────────────────────────────────────\n",
       "                                             2                                \n",
       "               - 0.00196019999999999⋅\\Delta m  - 0.000178200000000128⋅\\Delta m\n",
       "\n",
       "                                     ⎞\n",
       "99995⋅\\Delta m - 0.000392000000001502⎠\n",
       "──────────────────────────────────────\n",
       "                                      \n",
       " - 4.00000000055911e-6                "
      ]
     },
     "execution_count": 135,
     "metadata": {},
     "output_type": "execute_result"
    }
   ],
   "source": [
    "reparam_concretized"
   ]
  },
  {
   "cell_type": "code",
   "execution_count": 136,
   "metadata": {},
   "outputs": [],
   "source": [
    "# This is hecking weird"
   ]
  },
  {
   "cell_type": "code",
   "execution_count": 137,
   "metadata": {},
   "outputs": [
    {
     "data": {
      "text/plain": [
       "<matplotlib.legend.Legend at 0x11b6a0da0>"
      ]
     },
     "execution_count": 137,
     "metadata": {},
     "output_type": "execute_result"
    },
    {
     "data": {
      "image/png": "[encoded data removed]",
      "text/plain": [
       "<Figure size 432x288 with 1 Axes>"
      ]
     },
     "metadata": {
      "needs_background": "light"
     },
     "output_type": "display_data"
    }
   ],
   "source": [
    "dms = np.linspace(0, 0.3, 100)\n",
    "alphas = np.linspace(0.1, 0.5, 11)\n",
    "for alpha_val in alphas:\n",
    "    f = reparam.subs(beta, 0.99)\n",
    "    plt.plot(dms, [f.subs(alpha, alpha_val).subs(delta_m, dm) for dm in dms], label=alpha_val)\n",
    "plt.legend()"
   ]
  },
  {
   "cell_type": "code",
   "execution_count": 138,
   "metadata": {},
   "outputs": [],
   "source": [
    "# This looks a lot more sensible"
   ]
  },
  {
   "cell_type": "code",
   "execution_count": 139,
   "metadata": {},
   "outputs": [
    {
     "data": {
      "image/png": "[encoded data removed]",
      "text/latex": [
       "$$0.0404040404040404$$"
      ],
      "text/plain": [
       "0.0404040404040404"
      ]
     },
     "execution_count": 139,
     "metadata": {},
     "output_type": "execute_result"
    }
   ],
   "source": [
    "m0.subs(beta, 0.99)"
   ]
  },
  {
   "cell_type": "code",
   "execution_count": 140,
   "metadata": {},
   "outputs": [
    {
     "data": {
      "text/plain": [
       "[<matplotlib.lines.Line2D at 0x11b7914a8>]"
      ]
     },
     "execution_count": 140,
     "metadata": {},
     "output_type": "execute_result"
    },
    {
     "data": {
      "image/png": "[encoded data removed]",
      "text/plain": [
       "<Figure size 432x288 with 1 Axes>"
      ]
     },
     "metadata": {
      "needs_background": "light"
     },
     "output_type": "display_data"
    }
   ],
   "source": [
    "ms = np.linspace(float(m0.subs(beta, 0.99)), 1, 1000)\n",
    "plt.plot(ms, [concretized.subs(m, mval) for mval in ms])"
   ]
  },
  {
   "cell_type": "code",
   "execution_count": null,
   "metadata": {},
   "outputs": [],
   "source": [
    "# Look, this can't be right at all. \n",
    "# Wait a minute, this alpha might not be optimal. \n",
    "# Let's try..."
   ]
  },
  {
   "cell_type": "code",
   "execution_count": 142,
   "metadata": {},
   "outputs": [],
   "source": [
    "# This can't be right. What is this hecking crap???"
   ]
  },
  {
   "cell_type": "code",
   "execution_count": 143,
   "metadata": {},
   "outputs": [],
   "source": [
    "# This is the value function, not the regret."
   ]
  },
  {
   "cell_type": "code",
   "execution_count": 144,
   "metadata": {},
   "outputs": [
    {
     "data": {
      "image/png": "[encoded data removed]",
      "text/latex": [
       "$$98.9898989764418$$"
      ],
      "text/plain": [
       "98.9898989764418"
      ]
     },
     "execution_count": 144,
     "metadata": {},
     "output_type": "execute_result"
    }
   ],
   "source": [
    "reparam_concretized.subs(delta_m, 0)"
   ]
  },
  {
   "cell_type": "code",
   "execution_count": 145,
   "metadata": {},
   "outputs": [
    {
     "data": {
      "image/png": "[encoded data removed]",
      "text/latex": [
       "$$98.802401475152$$"
      ],
      "text/plain": [
       "98.8024014751520"
      ]
     },
     "execution_count": 145,
     "metadata": {},
     "output_type": "execute_result"
    }
   ],
   "source": [
    "# Hold up--what the fuck is up with this??? It can't get BIGGER as you increase delta_m...\n",
    "# THis is some garbage\n",
    "reparam_concretized.subs(delta_m, 0.008)"
   ]
  },
  {
   "cell_type": "code",
   "execution_count": 146,
   "metadata": {},
   "outputs": [
    {
     "data": {
      "image/png": "[encoded data removed]",
      "text/latex": [
       "$$98.5557592052002$$"
      ],
      "text/plain": [
       "98.5557592052002"
      ]
     },
     "execution_count": 146,
     "metadata": {},
     "output_type": "execute_result"
    }
   ],
   "source": [
    "reparam_concretized.subs(delta_m, 0.020)"
   ]
  },
  {
   "cell_type": "code",
   "execution_count": 147,
   "metadata": {},
   "outputs": [],
   "source": [
    "# This is close to simulation."
   ]
  },
  {
   "cell_type": "code",
   "execution_count": 148,
   "metadata": {},
   "outputs": [
    {
     "data": {
      "image/png": "[encoded data removed]",
      "text/latex": [
       "$$97.2886484454018$$"
      ],
      "text/plain": [
       "97.2886484454018"
      ]
     },
     "execution_count": 148,
     "metadata": {},
     "output_type": "execute_result"
    }
   ],
   "source": [
    "reparam_concretized.subs(delta_m, 0.1)"
   ]
  },
  {
   "cell_type": "code",
   "execution_count": null,
   "metadata": {},
   "outputs": [],
   "source": []
  },
  {
   "cell_type": "code",
   "execution_count": null,
   "metadata": {},
   "outputs": [],
   "source": [
    "# This is not... Starting to think there is a problem with my simulation. "
   ]
  },
  {
   "cell_type": "code",
   "execution_count": null,
   "metadata": {},
   "outputs": [],
   "source": [
    "# There's no way this can agree with my logarithmic expression..."
   ]
  },
  {
   "cell_type": "code",
   "execution_count": null,
   "metadata": {},
   "outputs": [],
   "source": [
    "# TODO try iterating the integral with alpha = 0.3 as above and see what we get to."
   ]
  },
  {
   "cell_type": "code",
   "execution_count": null,
   "metadata": {},
   "outputs": [],
   "source": [
    "def iterate_value_function(previous, alpha_value):\n",
    "    query_expression_w_previous = query_expression.subs(V(z), previous(z)).subs(V(m - z), previous(m - z))\n",
    "    query_integral = 2 * Integral(query_expression_w_previous, (z, (m / 2) - (alpha * (m - m0)), m/2))\n",
    "    guess_unknown_integral = 2 * Integral(half + (half - z/m) + beta * V(m), (z, 0, m/2 - alpha*(m - m0)))\n",
    "    guess_known_integral = (1 - m) * (1 + beta * V(m))\n",
    "    should_be_zero = query_integral + guess_unknown_integral + guess_known_integral - V(m)\n"
   ]
  },
  {
   "cell_type": "code",
   "execution_count": 30,
   "metadata": {},
   "outputs": [],
   "source": [
    "def linear(state):\n",
    "    return (1 - state / 4) / (1 - beta)"
   ]
  },
  {
   "cell_type": "code",
   "execution_count": 31,
   "metadata": {},
   "outputs": [],
   "source": [
    "# This is pretty disgusting. "
   ]
  },
  {
   "cell_type": "code",
   "execution_count": 32,
   "metadata": {},
   "outputs": [],
   "source": [
    "diff_soln = diff(solution, alpha)"
   ]
  },
  {
   "cell_type": "code",
   "execution_count": 33,
   "metadata": {},
   "outputs": [
    {
     "data": {
      "image/png": "[encoded data removed]",
      "text/latex": [
       "$$\\frac{\\left(- 2 \\beta m - 8 \\beta + 8\\right) \\left(4 \\alpha^{3} \\beta^{3} m^{3} + 48 \\alpha^{3} \\beta^{3} m^{2} + 192 \\alpha^{3} \\beta^{3} m + 256 \\alpha^{3} \\beta^{3} - 48 \\alpha^{3} \\beta^{2} m^{2} - 384 \\alpha^{3} \\beta^{2} m - 768 \\alpha^{3} \\beta^{2} + 192 \\alpha^{3} \\beta m + 768 \\alpha^{3} \\beta - 256 \\alpha^{3} - 12 \\alpha^{2} \\beta^{4} m^{2} - 96 \\alpha^{2} \\beta^{4} m - 192 \\alpha^{2} \\beta^{4} + 12 \\alpha^{2} \\beta^{3} m^{2} + 192 \\alpha^{2} \\beta^{3} m + 576 \\alpha^{2} \\beta^{3} - 96 \\alpha^{2} \\beta^{2} m - 576 \\alpha^{2} \\beta^{2} + 192 \\alpha^{2} \\beta - 12 \\alpha \\beta^{4} m^{2} - 48 \\alpha \\beta^{4} m + 3 \\alpha \\beta^{3} m^{3} - 12 \\alpha \\beta^{2} m^{2} + 48 \\alpha \\beta^{2} m - 3 \\beta^{4} m^{2} + 12 \\beta^{4} m + 3 \\beta^{3} m^{2} - 12 \\beta^{3} m\\right)}{12 \\beta^{3} m \\left(\\beta - 1\\right) \\left(2 \\alpha \\beta m + 8 \\alpha \\beta - 8 \\alpha - \\beta + 1\\right)^{2}} + \\frac{12 \\alpha^{2} \\beta^{3} m^{3} + 144 \\alpha^{2} \\beta^{3} m^{2} + 576 \\alpha^{2} \\beta^{3} m + 768 \\alpha^{2} \\beta^{3} - 144 \\alpha^{2} \\beta^{2} m^{2} - 1152 \\alpha^{2} \\beta^{2} m - 2304 \\alpha^{2} \\beta^{2} + 576 \\alpha^{2} \\beta m + 2304 \\alpha^{2} \\beta - 768 \\alpha^{2} - 24 \\alpha \\beta^{4} m^{2} - 192 \\alpha \\beta^{4} m - 384 \\alpha \\beta^{4} + 24 \\alpha \\beta^{3} m^{2} + 384 \\alpha \\beta^{3} m + 1152 \\alpha \\beta^{3} - 192 \\alpha \\beta^{2} m - 1152 \\alpha \\beta^{2} + 384 \\alpha \\beta - 12 \\beta^{4} m^{2} - 48 \\beta^{4} m + 3 \\beta^{3} m^{3} - 12 \\beta^{2} m^{2} + 48 \\beta^{2} m}{12 \\beta^{3} m \\left(\\beta - 1\\right) \\left(2 \\alpha \\beta m + 8 \\alpha \\beta - 8 \\alpha - \\beta + 1\\right)}$$"
      ],
      "text/plain": [
       "                   ⎛   3  3  3       3  3  2        3  3          3  3       3\n",
       "(-2⋅β⋅m - 8⋅β + 8)⋅⎝4⋅α ⋅β ⋅m  + 48⋅α ⋅β ⋅m  + 192⋅α ⋅β ⋅m + 256⋅α ⋅β  - 48⋅α \n",
       "──────────────────────────────────────────────────────────────────────────────\n",
       "                                                                              \n",
       "                                                                              \n",
       "\n",
       "  2  2        3  2          3  2        3            3          3       2  4  \n",
       "⋅β ⋅m  - 384⋅α ⋅β ⋅m - 768⋅α ⋅β  + 192⋅α ⋅β⋅m + 768⋅α ⋅β - 256⋅α  - 12⋅α ⋅β ⋅m\n",
       "──────────────────────────────────────────────────────────────────────────────\n",
       "                                                                              \n",
       "                                                                              \n",
       "\n",
       "2       2  4          2  4       2  3  2        2  3          2  3       2  2 \n",
       "  - 96⋅α ⋅β ⋅m - 192⋅α ⋅β  + 12⋅α ⋅β ⋅m  + 192⋅α ⋅β ⋅m + 576⋅α ⋅β  - 96⋅α ⋅β ⋅\n",
       "──────────────────────────────────────────────────────────────────────────────\n",
       "     3                                          2                             \n",
       " 12⋅β ⋅m⋅(β - 1)⋅(2⋅α⋅β⋅m + 8⋅α⋅β - 8⋅α - β + 1)                              \n",
       "\n",
       "         2  2        2           4  2         4          3  3         2  2    \n",
       "m - 576⋅α ⋅β  + 192⋅α ⋅β - 12⋅α⋅β ⋅m  - 48⋅α⋅β ⋅m + 3⋅α⋅β ⋅m  - 12⋅α⋅β ⋅m  + 4\n",
       "──────────────────────────────────────────────────────────────────────────────\n",
       "                                                                              \n",
       "                                                                              \n",
       "\n",
       "     2        4  2       4        3  2       3  ⎞       2  3  3        2  3  2\n",
       "8⋅α⋅β ⋅m - 3⋅β ⋅m  + 12⋅β ⋅m + 3⋅β ⋅m  - 12⋅β ⋅m⎠   12⋅α ⋅β ⋅m  + 144⋅α ⋅β ⋅m \n",
       "───────────────────────────────────────────────── + ──────────────────────────\n",
       "                                                                              \n",
       "                                                                              \n",
       "\n",
       "        2  3          2  3        2  2  2         2  2           2  2        2\n",
       " + 576⋅α ⋅β ⋅m + 768⋅α ⋅β  - 144⋅α ⋅β ⋅m  - 1152⋅α ⋅β ⋅m - 2304⋅α ⋅β  + 576⋅α \n",
       "──────────────────────────────────────────────────────────────────────────────\n",
       "                                                                              \n",
       "                                                                              \n",
       "\n",
       "             2          2         4  2          4            4         3  2   \n",
       "⋅β⋅m + 2304⋅α ⋅β - 768⋅α  - 24⋅α⋅β ⋅m  - 192⋅α⋅β ⋅m - 384⋅α⋅β  + 24⋅α⋅β ⋅m  + \n",
       "──────────────────────────────────────────────────────────────────────────────\n",
       "                      3                                                       \n",
       "                  12⋅β ⋅m⋅(β - 1)⋅(2⋅α⋅β⋅m + 8⋅α⋅β - 8⋅α - β + 1)             \n",
       "\n",
       "       3             3          2             2                 4  2       4  \n",
       "384⋅α⋅β ⋅m + 1152⋅α⋅β  - 192⋅α⋅β ⋅m - 1152⋅α⋅β  + 384⋅α⋅β - 12⋅β ⋅m  - 48⋅β ⋅m\n",
       "──────────────────────────────────────────────────────────────────────────────\n",
       "                                                                              \n",
       "                                                                              \n",
       "\n",
       "      3  3       2  2       2  \n",
       " + 3⋅β ⋅m  - 12⋅β ⋅m  + 48⋅β ⋅m\n",
       "───────────────────────────────\n",
       "                               \n",
       "                               "
      ]
     },
     "execution_count": 33,
     "metadata": {},
     "output_type": "execute_result"
    }
   ],
   "source": [
    "diff_soln"
   ]
  },
  {
   "cell_type": "code",
   "execution_count": null,
   "metadata": {},
   "outputs": [],
   "source": [
    "# I have no idea what to do next. "
   ]
  },
  {
   "cell_type": "code",
   "execution_count": 36,
   "metadata": {},
   "outputs": [
    {
     "data": {
      "image/png": "[encoded data removed]",
      "text/latex": [
       "$$- \\frac{2 \\beta - 1}{\\beta^{2} - \\beta}$$"
      ],
      "text/plain": [
       "-(2⋅β - 1) \n",
       "───────────\n",
       "    2      \n",
       "   β  - β  "
      ]
     },
     "execution_count": 36,
     "metadata": {},
     "output_type": "execute_result"
    }
   ],
   "source": [
    "solution.limit(m, m0)"
   ]
  },
  {
   "cell_type": "code",
   "execution_count": 38,
   "metadata": {},
   "outputs": [],
   "source": [
    "mm = symbols(\"mm\")"
   ]
  },
  {
   "cell_type": "code",
   "execution_count": 40,
   "metadata": {},
   "outputs": [
    {
     "data": {
      "image/png": "[encoded data removed]",
      "text/latex": [
       "$$\\frac{- 2 \\beta + 1}{\\beta \\left(\\beta - 1\\right)}$$"
      ],
      "text/plain": [
       " -2⋅β + 1\n",
       "─────────\n",
       "β⋅(β - 1)"
      ]
     },
     "execution_count": 40,
     "metadata": {},
     "output_type": "execute_result"
    }
   ],
   "source": [
    "(((1 - mm/4) / (1 - beta)).subs(mm, m0)).simplify()"
   ]
  },
  {
   "cell_type": "code",
   "execution_count": null,
   "metadata": {},
   "outputs": [],
   "source": [
    "# That's a nice sanity check!"
   ]
  },
  {
   "cell_type": "code",
   "execution_count": 43,
   "metadata": {},
   "outputs": [
    {
     "data": {
      "image/png": "[encoded data removed]",
      "text/latex": [
       "$$- \\infty \\operatorname{sign}{\\left (\\frac{\\alpha^{3}}{8 \\alpha - 1} \\right )}$$"
      ],
      "text/plain": [
       "       ⎛    3  ⎞\n",
       "       ⎜   α   ⎟\n",
       "-∞⋅sign⎜───────⎟\n",
       "       ⎝8⋅α - 1⎠"
      ]
     },
     "execution_count": 43,
     "metadata": {},
     "output_type": "execute_result"
    }
   ],
   "source": [
    "# This doesn't work because m0 goes negative as we send beta to 0.\n",
    "# In order for this to make sense, we need to substitute m0 = 0 and then do the limit.\n",
    "solution.subs(m, 1).limit(beta, 0)"
   ]
  },
  {
   "cell_type": "code",
   "execution_count": null,
   "metadata": {},
   "outputs": [],
   "source": [
    "# Whoa, alright. This is clearly wrong. It should be the value function at m_0, which we know to be different\n",
    "# It makes sense that the alpha should drop out, though, because in the limit, you're only querying in the center.\n",
    "# Not sure what else I can do here."
   ]
  },
  {
   "cell_type": "code",
   "execution_count": null,
   "metadata": {},
   "outputs": [],
   "source": [
    "# Maybe try to do the hand calculation in the limit again?\n",
    "# Or do a super high res simulation?"
   ]
  }
 ],
 "metadata": {
  "kernelspec": {
   "display_name": "Python 3",
   "language": "python",
   "name": "python3"
  },
  "language_info": {
   "codemirror_mode": {
    "name": "ipython",
    "version": 3
   },
   "file_extension": ".py",
   "mimetype": "text/x-python",
   "name": "python",
   "nbconvert_exporter": "python",
   "pygments_lexer": "ipython3",
   "version": "3.7.1"
  }
 },
 "nbformat": 4,
 "nbformat_minor": 2
}
